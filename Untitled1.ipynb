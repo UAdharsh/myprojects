{
 "cells": [
  {
   "cell_type": "code",
   "execution_count": 2,
   "id": "e5e01c68",
   "metadata": {},
   "outputs": [
    {
     "name": "stdout",
     "output_type": "stream",
     "text": [
      "DataFrame with default index\n",
      "    rollno  name  physics  botony\n",
      "0      21  Amol       72      67\n",
      "1      23  Lini       78      69\n",
      "2      32  Kiku       74      56\n",
      "3      52  Ajit       54      76\n",
      "\n",
      "DataFrame with column as index\n",
      "         name  physics  botony\n",
      "rollno                       \n",
      "21      Amol       72      67\n",
      "23      Lini       78      69\n",
      "32      Kiku       74      56\n",
      "52      Ajit       54      76\n"
     ]
    }
   ],
   "source": [
    "import pandas as pd\n",
    "df = pd.DataFrame(\n",
    "[[21, 'Amol', 72, 67],[23, 'Lini', 78, 69],[32, 'Kiku', 74, 56],[52, 'Ajit', 54, 76]],\n",
    "columns=['rollno', 'name', 'physics', 'botony'])\n",
    "print('DataFrame with default index\\n', df)\n",
    "#set column as index\n",
    "df = df.set_index('rollno')\n",
    "print('\\nDataFrame with column as index\\n',df)"
   ]
  },
  {
   "cell_type": "code",
   "execution_count": null,
   "id": "115c2f6d",
   "metadata": {},
   "outputs": [],
   "source": []
  }
 ],
 "metadata": {
  "kernelspec": {
   "display_name": "Python 3 (ipykernel)",
   "language": "python",
   "name": "python3"
  },
  "language_info": {
   "codemirror_mode": {
    "name": "ipython",
    "version": 3
   },
   "file_extension": ".py",
   "mimetype": "text/x-python",
   "name": "python",
   "nbconvert_exporter": "python",
   "pygments_lexer": "ipython3",
   "version": "3.11.5"
  }
 },
 "nbformat": 4,
 "nbformat_minor": 5
}
