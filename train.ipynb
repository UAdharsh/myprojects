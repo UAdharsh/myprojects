{
 "cells": [
  {
   "cell_type": "code",
   "execution_count": 101,
   "id": "dfb2b1a4-0278-42b9-8a09-0494e39d99da",
   "metadata": {},
   "outputs": [
    {
     "name": "stdout",
     "output_type": "stream",
     "text": [
      "SUCESS\n"
     ]
    }
   ],
   "source": [
    "import pandas as pd\n",
    "from sklearn.model_selection import train_test_split\n",
    "from sklearn.preprocessing import MinMaxScaler\n",
    "\n",
    "def load_and_preprocess_data(filename):\n",
    "    # Load the data\n",
    "    data = pd.read_csv(filename)\n",
    "    \n",
    "    # Drop the 'Frame' column as it is just a serial number\n",
    "    data = data.drop(columns=['Frame'])\n",
    "    \n",
    "    # Split data into features and target\n",
    "    X = data.drop(columns=['target'])\n",
    "    y = data['target']\n",
    "    \n",
    "    # Normalize the feature data\n",
    "    scaler = MinMaxScaler()\n",
    "    X_scaled = scaler.fit_transform(X)\n",
    "    \n",
    "    return X_scaled, y\n",
    "\n",
    "X, y = load_and_preprocess_data(\"C:\\\\Users\\\\Adarshajay\\\\Downloads\\\\Dataset video\\\\Final\\\\pose_datafinal - PT - Copy.csv\")\n",
    "print('SUCESS')"
   ]
  },
  {
   "cell_type": "code",
   "execution_count": 102,
   "id": "2e3e4d1f-5442-4aaf-b397-f9288bae7b5b",
   "metadata": {},
   "outputs": [],
   "source": [
    "X_train, X_val, y_train, y_val = train_test_split(X, y, test_size=0.2, random_state=42)"
   ]
  },
  {
   "cell_type": "code",
   "execution_count": 103,
   "id": "9cb04082-ce95-46df-adc7-e420be702703",
   "metadata": {},
   "outputs": [],
   "source": [
    "import tensorflow as tf\n",
    "from tensorflow.keras import layers, models\n",
    "\n",
    "def create_blazepose_model(input_shape):\n",
    "    model = models.Sequential([\n",
    "        layers.Input(shape=input_shape),  # Specify the input shape explicitly here\n",
    "        layers.Dense(64, activation='relu'),\n",
    "        layers.Dropout(0.1),\n",
    "        layers.Dense(128, activation='relu'),\n",
    "        layers.Dropout(0.1),\n",
    "        layers.Dense(64, activation='relu'),\n",
    "        layers.Dense(1, activation='sigmoid')  # Binary classification: 0 for transition, 1 for pose\n",
    "    ])\n",
    "    return model"
   ]
  },
  {
   "cell_type": "code",
   "execution_count": 104,
   "id": "fed560ab-8625-4e89-b38b-85b4f9ce9676",
   "metadata": {},
   "outputs": [],
   "source": [
    "model = create_blazepose_model(input_shape=(X_train.shape[1],))"
   ]
  },
  {
   "cell_type": "code",
   "execution_count": 105,
   "id": "5ea1556d-224e-4fac-a417-95655ac48dc1",
   "metadata": {},
   "outputs": [],
   "source": [
    "model.compile(optimizer='adam', loss='binary_crossentropy', metrics=['accuracy'])"
   ]
  },
  {
   "cell_type": "code",
   "execution_count": 106,
   "id": "bbc57388-c14e-46f7-ad2d-20b0ae7704fc",
   "metadata": {},
   "outputs": [
    {
     "name": "stdout",
     "output_type": "stream",
     "text": [
      "Epoch 1/10\n",
      "\u001b[1m96/96\u001b[0m \u001b[32m━━━━━━━━━━━━━━━━━━━━\u001b[0m\u001b[37m\u001b[0m \u001b[1m5s\u001b[0m 10ms/step - accuracy: 0.7446 - loss: 0.5530 - val_accuracy: 0.7893 - val_loss: 0.4767\n",
      "Epoch 2/10\n",
      "\u001b[1m96/96\u001b[0m \u001b[32m━━━━━━━━━━━━━━━━━━━━\u001b[0m\u001b[37m\u001b[0m \u001b[1m0s\u001b[0m 4ms/step - accuracy: 0.7827 - loss: 0.4804 - val_accuracy: 0.7893 - val_loss: 0.4439\n",
      "Epoch 3/10\n",
      "\u001b[1m96/96\u001b[0m \u001b[32m━━━━━━━━━━━━━━━━━━━━\u001b[0m\u001b[37m\u001b[0m \u001b[1m0s\u001b[0m 3ms/step - accuracy: 0.7892 - loss: 0.4529 - val_accuracy: 0.7893 - val_loss: 0.4316\n",
      "Epoch 4/10\n",
      "\u001b[1m96/96\u001b[0m \u001b[32m━━━━━━━━━━━━━━━━━━━━\u001b[0m\u001b[37m\u001b[0m \u001b[1m0s\u001b[0m 2ms/step - accuracy: 0.7760 - loss: 0.4448 - val_accuracy: 0.7893 - val_loss: 0.4162\n",
      "Epoch 5/10\n",
      "\u001b[1m96/96\u001b[0m \u001b[32m━━━━━━━━━━━━━━━━━━━━\u001b[0m\u001b[37m\u001b[0m \u001b[1m0s\u001b[0m 2ms/step - accuracy: 0.7823 - loss: 0.4377 - val_accuracy: 0.7893 - val_loss: 0.4147\n",
      "Epoch 6/10\n",
      "\u001b[1m96/96\u001b[0m \u001b[32m━━━━━━━━━━━━━━━━━━━━\u001b[0m\u001b[37m\u001b[0m \u001b[1m0s\u001b[0m 4ms/step - accuracy: 0.7924 - loss: 0.4185 - val_accuracy: 0.7565 - val_loss: 0.4161\n",
      "Epoch 7/10\n",
      "\u001b[1m96/96\u001b[0m \u001b[32m━━━━━━━━━━━━━━━━━━━━\u001b[0m\u001b[37m\u001b[0m \u001b[1m0s\u001b[0m 4ms/step - accuracy: 0.7929 - loss: 0.4044 - val_accuracy: 0.8246 - val_loss: 0.4063\n",
      "Epoch 8/10\n",
      "\u001b[1m96/96\u001b[0m \u001b[32m━━━━━━━━━━━━━━━━━━━━\u001b[0m\u001b[37m\u001b[0m \u001b[1m0s\u001b[0m 3ms/step - accuracy: 0.7924 - loss: 0.4007 - val_accuracy: 0.7919 - val_loss: 0.3937\n",
      "Epoch 9/10\n",
      "\u001b[1m96/96\u001b[0m \u001b[32m━━━━━━━━━━━━━━━━━━━━\u001b[0m\u001b[37m\u001b[0m \u001b[1m0s\u001b[0m 3ms/step - accuracy: 0.7793 - loss: 0.4114 - val_accuracy: 0.8207 - val_loss: 0.4098\n",
      "Epoch 10/10\n",
      "\u001b[1m96/96\u001b[0m \u001b[32m━━━━━━━━━━━━━━━━━━━━\u001b[0m\u001b[37m\u001b[0m \u001b[1m0s\u001b[0m 4ms/step - accuracy: 0.7765 - loss: 0.4088 - val_accuracy: 0.7984 - val_loss: 0.4033\n"
     ]
    }
   ],
   "source": [
    "history = model.fit(X_train, y_train, epochs=10, batch_size=32, validation_data=(X_val, y_val))"
   ]
  },
  {
   "cell_type": "code",
   "execution_count": 107,
   "id": "8ecafe21-7b24-4b1b-a615-c2affe094330",
   "metadata": {},
   "outputs": [],
   "source": [
    "model.save('trained_blazepose_model.keras')"
   ]
  },
  {
   "cell_type": "code",
   "execution_count": 108,
   "id": "50c0e812-ce95-4c5c-926a-c2ff95e4499e",
   "metadata": {},
   "outputs": [
    {
     "name": "stdout",
     "output_type": "stream",
     "text": [
      "\u001b[1m24/24\u001b[0m \u001b[32m━━━━━━━━━━━━━━━━━━━━\u001b[0m\u001b[37m\u001b[0m \u001b[1m0s\u001b[0m 1ms/step - accuracy: 0.7965 - loss: 0.4115 \n"
     ]
    },
    {
     "data": {
      "text/plain": [
       "[0.4032611846923828, 0.7984293103218079]"
      ]
     },
     "execution_count": 108,
     "metadata": {},
     "output_type": "execute_result"
    }
   ],
   "source": [
    "model.evaluate(X_val, y_val)"
   ]
  },
  {
   "cell_type": "code",
   "execution_count": 109,
   "id": "4340bef5-ae7d-4942-9994-41cfbb365ead",
   "metadata": {},
   "outputs": [
    {
     "ename": "ModuleNotFoundError",
     "evalue": "No module named 'your_dataset_module'",
     "output_type": "error",
     "traceback": [
      "\u001b[1;31m---------------------------------------------------------------------------\u001b[0m",
      "\u001b[1;31mModuleNotFoundError\u001b[0m                       Traceback (most recent call last)",
      "Cell \u001b[1;32mIn[109], line 6\u001b[0m\n\u001b[0;32m      4\u001b[0m \u001b[38;5;28;01mfrom\u001b[39;00m \u001b[38;5;21;01mtensorflow\u001b[39;00m\u001b[38;5;21;01m.\u001b[39;00m\u001b[38;5;21;01mkeras\u001b[39;00m\u001b[38;5;21;01m.\u001b[39;00m\u001b[38;5;21;01mmetrics\u001b[39;00m \u001b[38;5;28;01mimport\u001b[39;00m MeanSquaredError\n\u001b[0;32m      5\u001b[0m \u001b[38;5;28;01mfrom\u001b[39;00m \u001b[38;5;21;01mtensorflow\u001b[39;00m\u001b[38;5;21;01m.\u001b[39;00m\u001b[38;5;21;01mkeras\u001b[39;00m\u001b[38;5;21;01m.\u001b[39;00m\u001b[38;5;21;01mcallbacks\u001b[39;00m \u001b[38;5;28;01mimport\u001b[39;00m ModelCheckpoint\n\u001b[1;32m----> 6\u001b[0m \u001b[38;5;28;01mfrom\u001b[39;00m \u001b[38;5;21;01myour_dataset_module\u001b[39;00m \u001b[38;5;28;01mimport\u001b[39;00m load_dataset, preprocess_dataset\n\u001b[0;32m      8\u001b[0m \u001b[38;5;28;01mimport\u001b[39;00m \u001b[38;5;21;01mpandas\u001b[39;00m \u001b[38;5;28;01mas\u001b[39;00m \u001b[38;5;21;01mpd\u001b[39;00m\n\u001b[0;32m     10\u001b[0m \u001b[38;5;28;01mdef\u001b[39;00m \u001b[38;5;21mload_dataset\u001b[39m(file_path):\n\u001b[0;32m     11\u001b[0m     \u001b[38;5;66;03m# Implement logic to load your dataset (e.g., CSV file) using pandas or any other method\u001b[39;00m\n",
      "\u001b[1;31mModuleNotFoundError\u001b[0m: No module named 'your_dataset_module'"
     ]
    }
   ],
   "source": [
    "import tensorflow as tf\n",
    "from tensorflow.keras.optimizers import Adam\n",
    "from tensorflow.keras.losses import MeanSquaredError\n",
    "from tensorflow.keras.metrics import MeanSquaredError\n",
    "from tensorflow.keras.callbacks import ModelCheckpoint\n",
    "from your_dataset_module import load_dataset, preprocess_dataset\n",
    "\n",
    "import pandas as pd\n",
    "\n",
    "def load_dataset(file_path):\n",
    "    # Implement logic to load your dataset (e.g., CSV file) using pandas or any other method\n",
    "    dataset = pd.read_csv(file_path)\n",
    "    return dataset\n",
    "\n",
    "def preprocess_dataset(dataset):\n",
    "    # Implement logic to preprocess your dataset (e.g., normalization, data augmentation)\n",
    "    # Preprocessing steps will depend on your specific dataset and task\n",
    "    preprocessed_dataset = dataset  # Placeholder, replace with actual preprocessing logic\n",
    "    return preprocessed_dataset\n",
    "\n",
    "# Assuming you have a module to load and preprocess your dataset\n",
    "train_dataset, val_dataset = load_dataset(\"C:\\\\Users\\\\Adarshajay\\\\Downloads\\\\Dataset video\\\\Final\\\\pose_datafinal - PT - Copy.csv\"), load_dataset(\"C:\\\\Users\\\\Adarshajay\\\\Downloads\\\\Dataset video\\\\Final\\\\pose_datafinal - PT.csv\")\n",
    "train_dataset, val_dataset = preprocess_dataset(train_dataset), preprocess_dataset(val_dataset)\n",
    "\n",
    "# Assuming you have a function to create the BlazePose model architecture\n",
    "def create_blazepose_model():\n",
    "    # Create your BlazePose model architecture here\n",
    "    # Example:\n",
    "    model = YourBlazePoseModel()\n",
    "    return model\n",
    "\n",
    "# Create BlazePose model\n",
    "model = create_blazepose_model()\n",
    "\n",
    "# Compile the model\n",
    "model.compile(optimizer=Adam(), loss=MeanSquaredError(), metrics=[MeanSquaredError()])\n",
    "\n",
    "# Define callbacks (e.g., model checkpointing to save the best model during training)\n",
    "callbacks = [\n",
    "    ModelCheckpoint(filepath='best_model.h5', monitor='val_loss', save_best_only=True)\n",
    "]\n",
    "\n",
    "# Train the model\n",
    "history = model.fit(train_dataset, epochs=10, validation_data=val_dataset, callbacks=callbacks)\n",
    "\n",
    "# Optionally, save the trained model\n",
    "model.save('trained_blazepose_model.h5')"
   ]
  },
  {
   "cell_type": "code",
   "execution_count": 110,
   "id": "375ff94e-24e0-4f02-942d-50bcb5d047de",
   "metadata": {},
   "outputs": [
    {
     "ename": "NameError",
     "evalue": "name 'df' is not defined",
     "output_type": "error",
     "traceback": [
      "\u001b[1;31m---------------------------------------------------------------------------\u001b[0m",
      "\u001b[1;31mNameError\u001b[0m                                 Traceback (most recent call last)",
      "Cell \u001b[1;32mIn[110], line 8\u001b[0m\n\u001b[0;32m      5\u001b[0m \u001b[38;5;28;01mfrom\u001b[39;00m \u001b[38;5;21;01msklearn\u001b[39;00m\u001b[38;5;21;01m.\u001b[39;00m\u001b[38;5;21;01mmodel_selection\u001b[39;00m \u001b[38;5;28;01mimport\u001b[39;00m cross_val_score\n\u001b[0;32m      7\u001b[0m \u001b[38;5;66;03m# Define features (X) and target variable (y)\u001b[39;00m\n\u001b[1;32m----> 8\u001b[0m X \u001b[38;5;241m=\u001b[39m df\u001b[38;5;241m.\u001b[39mdrop([\u001b[38;5;124m'\u001b[39m\u001b[38;5;124mtarget\u001b[39m\u001b[38;5;124m'\u001b[39m], axis\u001b[38;5;241m=\u001b[39m\u001b[38;5;241m1\u001b[39m)  \u001b[38;5;66;03m# Assuming 'target' column contains labels (0 for transition, 1 for pose)\u001b[39;00m\n\u001b[0;32m      9\u001b[0m y \u001b[38;5;241m=\u001b[39m df[\u001b[38;5;124m'\u001b[39m\u001b[38;5;124mtarget\u001b[39m\u001b[38;5;124m'\u001b[39m]\n\u001b[0;32m     11\u001b[0m \u001b[38;5;66;03m# Split the dataset into train and test sets (80-20 split)\u001b[39;00m\n",
      "\u001b[1;31mNameError\u001b[0m: name 'df' is not defined"
     ]
    }
   ],
   "source": [
    "import matplotlib.pyplot as plt\n",
    "from sklearn.model_selection import train_test_split\n",
    "from sklearn.tree import DecisionTreeClassifier\n",
    "from sklearn.metrics import accuracy_score, precision_score, recall_score, f1_score\n",
    "from sklearn.model_selection import cross_val_score\n",
    "\n",
    "# Define features (X) and target variable (y)\n",
    "X = df.drop(['target'], axis=1)  # Assuming 'target' column contains labels (0 for transition, 1 for pose)\n",
    "y = df['target']\n",
    "\n",
    "# Split the dataset into train and test sets (80-20 split)\n",
    "X_train, X_test, y_train, y_test = train_test_split(X, y, test_size=0.2, random_state=1)\n",
    "\n",
    "# Initialize Decision Tree classifiers (ID3 and CART)\n",
    "dt_id3 = DecisionTreeClassifier(criterion='entropy', max_depth=3)\n",
    "dt_cart = DecisionTreeClassifier(criterion='gini', max_depth=3)\n",
    "\n",
    "# Train the models\n",
    "dt_id3.fit(X_train, y_train)\n",
    "dt_cart.fit(X_train, y_train)\n",
    "\n",
    "# Evaluate model performance using cross-validation\n",
    "scores_id3 = cross_val_score(dt_id3, X_train, y_train, cv=5)\n",
    "scores_cart = cross_val_score(dt_cart, X_train, y_train, cv=5)\n",
    "\n",
    "# Plot decision trees\n",
    "plt.figure(figsize=(12, 8))\n",
    "tree.plot_tree(dt_id3, filled=True, feature_names=X.columns.tolist(), class_names=['transition', 'pose'])\n",
    "plt.show()\n",
    "\n",
    "plt.figure(figsize=(12, 8))\n",
    "tree.plot_tree(dt_cart, filled=True, feature_names=X.columns.tolist(), class_names=['transition', 'pose'])\n",
    "plt.show()\n"
   ]
  },
  {
   "cell_type": "code",
   "execution_count": null,
   "id": "05404d78-d46f-4f50-b02a-aea92ddd33d1",
   "metadata": {},
   "outputs": [],
   "source": []
  }
 ],
 "metadata": {
  "kernelspec": {
   "display_name": "Python 3 (ipykernel)",
   "language": "python",
   "name": "python3"
  },
  "language_info": {
   "codemirror_mode": {
    "name": "ipython",
    "version": 3
   },
   "file_extension": ".py",
   "mimetype": "text/x-python",
   "name": "python",
   "nbconvert_exporter": "python",
   "pygments_lexer": "ipython3",
   "version": "3.11.5"
  }
 },
 "nbformat": 4,
 "nbformat_minor": 5
}
